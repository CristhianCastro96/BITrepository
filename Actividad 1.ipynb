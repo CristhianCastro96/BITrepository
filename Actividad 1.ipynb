{
 "cells": [
  {
   "cell_type": "markdown",
   "metadata": {},
   "source": [
    "# Actividad 1: \n",
    "\n",
    "- **Fuente de datos**: [Datos fuente](https://www.datos.gov.co/Educaci-n/MEN_ESTADISTICAS-MATRICULA-POR-MUNICIPIOS_ES/y9ga-zwzy/about_data)\n",
    "- **Intro**: Elegí este tema porque la educación superior es clave para el desarrollo regional. Analizar estos datos ayuda a entender cómo se distribuyen las oportunidades educativas y apoya la toma de decisiones para mejorar el acceso y la equidad en la educación.\n",
    "- **Objetivo principal**: \n"
   ]
  },
  {
   "cell_type": "markdown",
   "metadata": {},
   "source": [
    "# 0. Librerias"
   ]
  },
  {
   "cell_type": "code",
   "execution_count": 38,
   "metadata": {},
   "outputs": [
    {
     "name": "stdout",
     "output_type": "stream",
     "text": [
      "    AÑO Código delDepartamento Nombre del Departamento Código delMunicipio  \\\n",
      "0  2005                     11                      11               11001   \n",
      "1  2005                     13                      13               13001   \n",
      "2  2005                     13                      13               13074   \n",
      "3  2005                     13                      13               13188   \n",
      "4  2005                     13                      13               13248   \n",
      "\n",
      "  Nombre del Municipio  TECNICA PROFESIONAL  TECNOLOGICA  UNIVERSITARIA  \\\n",
      "0          BOGOTÁ D.C.                63098      40178.0       279544.0   \n",
      "1  CARTAGENA DE INDIAS                 5902       4348.0        25138.0   \n",
      "2     BARRANCO DE LOBA                   40          0.0            0.0   \n",
      "3               CICUCO                   50          0.0            0.0   \n",
      "4             EL GUAMO                   40          0.0            0.0   \n",
      "\n",
      "   ESPECIALIZACION  MAESTRIA  DOCTORADO  IES CON OFERTA  \n",
      "0          23603.0      7399        492             106  \n",
      "1           1260.0         9          0              33  \n",
      "2              0.0         0          0               1  \n",
      "3              0.0         0          0               1  \n",
      "4              0.0         0          0               1  \n"
     ]
    }
   ],
   "source": [
    "import pandas as pd\n",
    "archivo_csv = 'C:\\\\Users\\\\jb359\\\\Downloads\\\\Proyecto DS\\\\ESTADISTICAS_MATRICULA_POR_MUNICIPIOS.csv'\n",
    "df = pd.read_csv(archivo_csv)\n",
    "print(df.head())\n"
   ]
  },
  {
   "cell_type": "code",
   "execution_count": 39,
   "metadata": {},
   "outputs": [
    {
     "name": "stdout",
     "output_type": "stream",
     "text": [
      "<class 'pandas.core.frame.DataFrame'>\n",
      "RangeIndex: 9629 entries, 0 to 9628\n",
      "Data columns (total 12 columns):\n",
      " #   Column                   Non-Null Count  Dtype  \n",
      "---  ------                   --------------  -----  \n",
      " 0   AÑO                      9629 non-null   int64  \n",
      " 1   Código delDepartamento   9629 non-null   object \n",
      " 2   Nombre del Departamento  9629 non-null   object \n",
      " 3   Código delMunicipio      9629 non-null   object \n",
      " 4   Nombre del Municipio     9629 non-null   object \n",
      " 5   TECNICA PROFESIONAL      9629 non-null   int64  \n",
      " 6   TECNOLOGICA              9629 non-null   float64\n",
      " 7   UNIVERSITARIA            9629 non-null   float64\n",
      " 8   ESPECIALIZACION          9629 non-null   float64\n",
      " 9   MAESTRIA                 9629 non-null   int64  \n",
      " 10  DOCTORADO                9629 non-null   int64  \n",
      " 11  IES CON OFERTA           9629 non-null   int64  \n",
      "dtypes: float64(3), int64(5), object(4)\n",
      "memory usage: 902.8+ KB\n",
      "None\n"
     ]
    }
   ],
   "source": [
    "print(df.info())"
   ]
  },
  {
   "cell_type": "code",
   "execution_count": 40,
   "metadata": {},
   "outputs": [
    {
     "name": "stdout",
     "output_type": "stream",
     "text": [
      "(9629, 12)\n",
      "AÑO\n",
      "2012    857\n",
      "2010    827\n",
      "2013    827\n",
      "2011    821\n",
      "2009    751\n",
      "2008    702\n",
      "2007    666\n",
      "2015    637\n",
      "2014    618\n",
      "2019    526\n",
      "Name: count, dtype: int64\n"
     ]
    }
   ],
   "source": [
    "print(df.shape)\n",
    "print(df[\"AÑO\"].value_counts().head(10))\n",
    "#universitaria se puede cambiar por otras categorias de la tabla"
   ]
  }
 ],
 "metadata": {
  "kernelspec": {
   "display_name": "Python 3",
   "language": "python",
   "name": "python3"
  },
  "language_info": {
   "codemirror_mode": {
    "name": "ipython",
    "version": 3
   },
   "file_extension": ".py",
   "mimetype": "text/x-python",
   "name": "python",
   "nbconvert_exporter": "python",
   "pygments_lexer": "ipython3",
   "version": "3.11.9"
  }
 },
 "nbformat": 4,
 "nbformat_minor": 2
}
