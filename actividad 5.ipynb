{
 "cells": [
  {
   "cell_type": "code",
   "execution_count": 39,
   "metadata": {},
   "outputs": [
    {
     "name": "stdout",
     "output_type": "stream",
     "text": [
      "Datos cargados exitosamente a la base de datos.\n"
     ]
    }
   ],
   "source": [
    "import pandas as pd\n",
    "from sqlalchemy import create_engine\n",
    "\n",
    "# Defino la ruta del archivo CSV\n",
    "csv_file_path = r\"C:\\Users\\USER\\Downloads\\dataset\\Urban Air Quality and Health Impact Dataset.csv\"\n",
    "\n",
    "# Cargo el dataset\n",
    "df = pd.read_csv(csv_file_path)\n",
    "\n",
    "# Parámetros de conexión\n",
    "user = 'postgres'\n",
    "password = '1234'\n",
    "host = 'localhost'  \n",
    "port = '5432'       \n",
    "database = 'postgres'\n",
    "\n",
    "# Creo la cadena de conexión\n",
    "engine = create_engine(f'postgresql://{user}:{password}@{host}:{port}/{database}')\n",
    "\n",
    "# Cargo el DataFrame a la base de datos\n",
    "df.to_sql('nombre_tabla', engine, if_exists='replace', index=False)  # Cambia 'nombre_tabla' \n",
    "print(\"Datos cargados exitosamente a la base de datos.\")\n",
    "\n"
   ]
  },
  {
   "cell_type": "code",
   "execution_count": 40,
   "metadata": {},
   "outputs": [
    {
     "name": "stdout",
     "output_type": "stream",
     "text": [
      "       datetime  datetimeEpoch     tempmax    tempmin       temp  \\\n",
      "0    2024-09-07   1.725692e+09  106.100000  91.000000  98.500000   \n",
      "1    2024-09-08   1.725779e+09  103.900000  87.000000  95.400000   \n",
      "2    2024-09-09   1.725865e+09  105.000000  83.900000  94.700000   \n",
      "3    2024-09-10   1.725952e+09  106.100000  81.200000  93.900000   \n",
      "4    2024-09-11   1.726038e+09  106.100000  82.100000  94.000000   \n",
      "..          ...            ...         ...        ...        ...   \n",
      "995  2024-09-18   1.726633e+09   76.060546  64.359387  69.002142   \n",
      "996  2024-09-17   1.726550e+09   68.409198  65.939319  66.567410   \n",
      "997  2024-09-12   1.726122e+09   69.756690  65.286919  65.919492   \n",
      "998  2024-09-14   1.726284e+09   77.106797  61.481724  68.106569   \n",
      "999  2024-09-18   1.726618e+09   90.923080  79.296868  81.636991   \n",
      "\n",
      "     feelslikemax  feelslikemin  feelslike        dew   humidity  ...  \\\n",
      "0      104.000000     88.100000  95.900000  51.500000  21.000000  ...   \n",
      "1      100.500000     84.700000  92.300000  48.700000  21.500000  ...   \n",
      "2       99.900000     81.600000  90.600000  41.700000  16.900000  ...   \n",
      "3      100.600000     79.500000  89.800000  39.100000  15.700000  ...   \n",
      "4      101.000000     80.000000  90.000000  40.100000  15.900000  ...   \n",
      "..            ...           ...        ...        ...        ...  ...   \n",
      "995     77.673823     63.510920  67.003338  59.936776  73.189130  ...   \n",
      "996     68.956722     64.805635  65.992526  59.010257  74.137401  ...   \n",
      "997     68.158536     63.662942  67.313322  62.024442  84.650482  ...   \n",
      "998     76.426959     60.901526  68.094309  63.169608  86.860261  ...   \n",
      "999     94.180423     78.071851  84.987113  73.393045  74.734715  ...   \n",
      "\n",
      "             City  Temp_Range  Heat_Index Severity_Score  Condition_Code  \\\n",
      "0         Phoenix   15.100000   95.918703       4.430000             NaN   \n",
      "1         Phoenix   16.900000   92.281316       3.880000             0.0   \n",
      "2         Phoenix   21.100000   90.599165       3.630000             0.0   \n",
      "3         Phoenix   24.900000   89.638811       2.851200             0.0   \n",
      "4         Phoenix   24.000000   89.760414       3.390800             0.0   \n",
      "..            ...         ...         ...            ...             ...   \n",
      "995  Philadelphia   12.886665   71.837558       1.957318             NaN   \n",
      "996     San Diego    2.613629   72.463491       2.537413             0.0   \n",
      "997     San Diego    4.598936   67.560060       3.595470             NaN   \n",
      "998   Los Angeles   15.477717   67.930437       3.498942             0.0   \n",
      "999       Houston   11.017871   86.802712       3.040020             0.0   \n",
      "\n",
      "     Month  Season  Day_of_Week  Is_Weekend  Health_Risk_Score  \n",
      "0      9.0    Fall     Saturday        True          10.522170  \n",
      "1      9.0    Fall       Sunday        True          10.062332  \n",
      "2      9.0    Fall       Monday       False           9.673387  \n",
      "3      9.0    Fall      Tuesday       False           9.411519  \n",
      "4      9.0    Fall    Wednesday       False           9.515179  \n",
      "..     ...     ...          ...         ...                ...  \n",
      "995    9.0    Fall    Wednesday       False           8.750142  \n",
      "996    9.0    Fall      Tuesday       False           9.118198  \n",
      "997    9.0    Fall     Thursday       False           9.880093  \n",
      "998    9.0    Fall     Saturday        True           9.561602  \n",
      "999    9.0    Fall    Wednesday       False          10.978044  \n",
      "\n",
      "[1000 rows x 46 columns]\n"
     ]
    }
   ],
   "source": [
    "# 1. Obtengo todos los registros\n",
    "all_data = pd.read_sql(\"SELECT * FROM nombre_tabla\", engine)\n",
    "print(all_data)\n"
   ]
  },
  {
   "cell_type": "code",
   "execution_count": 41,
   "metadata": {},
   "outputs": [
    {
     "name": "stdout",
     "output_type": "stream",
     "text": [
      "      datetime  datetimeEpoch     tempmax    tempmin       temp  feelslikemax  \\\n",
      "0   2024-09-07   1.725692e+09  106.100000  91.000000  98.500000    104.000000   \n",
      "1   2024-09-08   1.725779e+09  103.900000  87.000000  95.400000    100.500000   \n",
      "2   2024-09-09   1.725865e+09  105.000000  83.900000  94.700000     99.900000   \n",
      "3   2024-09-10   1.725952e+09  106.100000  81.200000  93.900000    100.600000   \n",
      "4   2024-09-11   1.726038e+09  106.100000  82.100000  94.000000    101.000000   \n",
      "..         ...            ...         ...        ...        ...           ...   \n",
      "74  2024-09-08   1.725810e+09  102.769151  87.318951  95.107769     99.365629   \n",
      "75  2024-09-09   1.725876e+09  104.003776  83.243193  97.109865    101.090371   \n",
      "76  2024-09-17   1.726589e+09  102.556340  87.681657  93.321286     98.415744   \n",
      "77  2024-09-10   1.725977e+09  105.402624  82.106679  95.330343    101.152571   \n",
      "78  2024-09-13   1.726175e+09  101.889047  78.491983  87.953773     99.644005   \n",
      "\n",
      "    feelslikemin  feelslike        dew   humidity  ...     City  Temp_Range  \\\n",
      "0      88.100000  95.900000  51.500000  21.000000  ...  Phoenix   15.100000   \n",
      "1      84.700000  92.300000  48.700000  21.500000  ...  Phoenix   16.900000   \n",
      "2      81.600000  90.600000  41.700000  16.900000  ...  Phoenix   21.100000   \n",
      "3      79.500000  89.800000  39.100000  15.700000  ...  Phoenix   24.900000   \n",
      "4      80.000000  90.000000  40.100000  15.900000  ...  Phoenix   24.000000   \n",
      "..           ...        ...        ...        ...  ...      ...         ...   \n",
      "74     85.239941  92.615786  49.482119  22.159146  ...  Phoenix   17.676721   \n",
      "75     82.268971  91.907238  41.601830  15.478840  ...  Phoenix   20.751380   \n",
      "76     86.507931  92.526897  58.893537  32.239180  ...  Phoenix   14.289562   \n",
      "77     79.614437  89.071008  38.521183  17.713503  ...  Phoenix   25.460930   \n",
      "78     77.610998  85.651400  43.276386  19.788345  ...  Phoenix   23.100771   \n",
      "\n",
      "    Heat_Index Severity_Score  Condition_Code  Month  Season  Day_of_Week  \\\n",
      "0    95.918703       4.430000             NaN    9.0    Fall     Saturday   \n",
      "1    92.281316       3.880000             0.0    9.0    Fall       Sunday   \n",
      "2    90.599165       3.630000             0.0    9.0    Fall       Monday   \n",
      "3    89.638811       2.851200             0.0    9.0    Fall      Tuesday   \n",
      "4    89.760414       3.390800             0.0    9.0    Fall    Wednesday   \n",
      "..         ...            ...             ...    ...     ...          ...   \n",
      "74   92.152609       3.992522             0.0    9.0    Fall       Sunday   \n",
      "75   91.259290       3.682822             0.0    9.0    Fall       Monday   \n",
      "76   90.067120       3.741275             NaN    9.0    Fall      Tuesday   \n",
      "77   90.324939       2.966837             0.0    9.0    Fall      Tuesday   \n",
      "78   84.656186       3.270747             0.0    9.0    Fall       Friday   \n",
      "\n",
      "    Is_Weekend  Health_Risk_Score  \n",
      "0         True          10.522170  \n",
      "1         True          10.062332  \n",
      "2        False           9.673387  \n",
      "3        False           9.411519  \n",
      "4        False           9.515179  \n",
      "..         ...                ...  \n",
      "74        True          10.097162  \n",
      "75       False           9.622442  \n",
      "76       False          10.458003  \n",
      "77       False           9.443491  \n",
      "78       False           9.240452  \n",
      "\n",
      "[79 rows x 46 columns]\n"
     ]
    }
   ],
   "source": [
    "# 2. Obtengo registros con temperatura máxima mayor a 100°F\n",
    "hot_days = pd.read_sql(\"SELECT * FROM nombre_tabla WHERE tempmax > 100\", engine)\n",
    "print(hot_days)\n",
    "\n"
   ]
  },
  {
   "cell_type": "code",
   "execution_count": 42,
   "metadata": {},
   "outputs": [
    {
     "name": "stdout",
     "output_type": "stream",
     "text": [
      "  Season  count\n",
      "0   Fall   1000\n"
     ]
    }
   ],
   "source": [
    "# 3. Número de días en cada temporada\n",
    "season_counts = pd.read_sql(\"\"\"\n",
    "   SELECT \"Season\", COUNT(*) as Count\n",
    "FROM nombre_tabla\n",
    "GROUP BY \"Season\";\n",
    "\"\"\", engine)\n",
    "print(season_counts)\n",
    "\n"
   ]
  },
  {
   "cell_type": "code",
   "execution_count": 43,
   "metadata": {},
   "outputs": [
    {
     "name": "stdout",
     "output_type": "stream",
     "text": [
      "            City  average_humidity\n",
      "0        Chicago         52.980994\n",
      "1        Houston         70.770566\n",
      "2    San Antonio         59.352298\n",
      "3    Los Angeles         57.071243\n",
      "4       San Jose         60.942343\n",
      "5        Phoenix         20.956228\n",
      "6         Dallas         56.280617\n",
      "7  New York City         61.998322\n",
      "8   Philadelphia         61.878699\n",
      "9      San Diego         72.003168\n"
     ]
    }
   ],
   "source": [
    "# 4. Obtengo el promedio de la humedad por ciudad\n",
    "avg_humidity = pd.read_sql(\"\"\"\n",
    "    SELECT \"City\", AVG(humidity) as Average_Humidity\n",
    "    FROM nombre_tabla\n",
    "    GROUP BY \"City\"\n",
    "\"\"\", engine)\n",
    "print(avg_humidity)\n",
    "\n"
   ]
  },
  {
   "cell_type": "code",
   "execution_count": 44,
   "metadata": {},
   "outputs": [
    {
     "name": "stdout",
     "output_type": "stream",
     "text": [
      "       datetime  datetimeEpoch     tempmax    tempmin       temp  \\\n",
      "0    2024-09-07   1.725692e+09  106.100000  91.000000  98.500000   \n",
      "1    2024-09-08   1.725779e+09  103.900000  87.000000  95.400000   \n",
      "2    2024-09-15   1.726384e+09  100.100000  82.100000  92.000000   \n",
      "3    2024-09-07   1.725685e+09   92.000000  73.400000  81.700000   \n",
      "4    2024-09-14   1.726290e+09   92.900000  76.700000  84.400000   \n",
      "..          ...            ...         ...        ...        ...   \n",
      "125  2024-09-07   1.725631e+09   88.230138  70.750230  76.808929   \n",
      "126  2024-09-08   1.725822e+09   84.503260  76.016346  80.997397   \n",
      "127  2024-09-07   1.725715e+09   85.914371  69.609476  76.683118   \n",
      "128  2024-09-15   1.726329e+09   96.272981  76.779528  85.587411   \n",
      "129  2024-09-21   1.726914e+09   95.695752  83.288149  90.238724   \n",
      "\n",
      "     feelslikemax  feelslikemin  feelslike        dew   humidity  ...  \\\n",
      "0      104.000000     88.100000  95.900000  51.500000  21.000000  ...   \n",
      "1      100.500000     84.700000  92.300000  48.700000  21.500000  ...   \n",
      "2      100.600000     81.500000  92.300000  60.300000  35.800000  ...   \n",
      "3       90.300000     73.400000  81.600000  60.300000  51.100000  ...   \n",
      "4       99.900000     76.700000  89.100000  72.600000  69.100000  ...   \n",
      "..            ...           ...        ...        ...        ...  ...   \n",
      "125     91.286837     72.384926  79.494570  65.997973  67.303886  ...   \n",
      "126     90.842442     76.689886  81.511804  64.295111  62.868868  ...   \n",
      "127     83.863955     71.372041  76.728177  54.497608  46.860536  ...   \n",
      "128     97.463700     76.067802  86.101751  62.128097  46.742602  ...   \n",
      "129     95.967472     82.913944  89.463533  62.852326  39.542100  ...   \n",
      "\n",
      "            City  Temp_Range  Heat_Index Severity_Score  Condition_Code  \\\n",
      "0        Phoenix   15.100000   95.918703       4.430000             NaN   \n",
      "1        Phoenix   16.900000   92.281316       3.880000             0.0   \n",
      "2        Phoenix   18.000000   92.167586       3.501200             0.0   \n",
      "3    San Antonio   18.600000   82.603642       4.690000             0.0   \n",
      "4    San Antonio   16.200000   91.041231       2.926300             NaN   \n",
      "..           ...         ...         ...            ...             ...   \n",
      "125      Houston   17.835928   80.360426       5.075392             NaN   \n",
      "126    San Diego   10.282985   82.105885       3.327061             NaN   \n",
      "127       Dallas   15.786394   78.325419       4.605421             0.0   \n",
      "128       Dallas   21.296577   88.053911       2.857323             0.0   \n",
      "129       Dallas   13.451166   88.863222       3.573577             NaN   \n",
      "\n",
      "     Month  Season  Day_of_Week  Is_Weekend  Health_Risk_Score  \n",
      "0      9.0    Fall     Saturday        True          10.522170  \n",
      "1      9.0    Fall       Sunday        True          10.062332  \n",
      "2      9.0    Fall       Sunday        True          10.470188  \n",
      "3      9.0    Fall     Saturday        True          10.656954  \n",
      "4      9.0    Fall     Saturday        True          11.126196  \n",
      "..     ...     ...          ...         ...                ...  \n",
      "125    9.0    Fall     Saturday        True          11.468569  \n",
      "126    9.0    Fall       Sunday        True          10.368005  \n",
      "127    9.0    Fall     Saturday        True          10.210394  \n",
      "128    9.0    Fall       Sunday        True          10.232833  \n",
      "129    9.0    Fall     Saturday        True          10.596044  \n",
      "\n",
      "[130 rows x 46 columns]\n"
     ]
    }
   ],
   "source": [
    "# 5. Filtro días de fin de semana con riesgo para la salud mayor a 10\n",
    "weekend_health_risk = pd.read_sql(\"\"\"\n",
    "    SELECT *\n",
    "    FROM nombre_tabla\n",
    "    WHERE \"Is_Weekend\" = TRUE AND \"Health_Risk_Score\" > 10\n",
    "\"\"\", engine)\n",
    "print(weekend_health_risk)"
   ]
  }
 ],
 "metadata": {
  "kernelspec": {
   "display_name": "Python 3",
   "language": "python",
   "name": "python3"
  },
  "language_info": {
   "codemirror_mode": {
    "name": "ipython",
    "version": 3
   },
   "file_extension": ".py",
   "mimetype": "text/x-python",
   "name": "python",
   "nbconvert_exporter": "python",
   "pygments_lexer": "ipython3",
   "version": "3.11.9"
  }
 },
 "nbformat": 4,
 "nbformat_minor": 2
}
